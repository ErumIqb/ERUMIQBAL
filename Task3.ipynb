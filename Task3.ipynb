{
 "cells": [
  {
   "cell_type": "code",
   "execution_count": 1,
   "id": "c36e81dc-bcef-498a-94b0-0ecc4741ede0",
   "metadata": {},
   "outputs": [
    {
     "name": "stdin",
     "output_type": "stream",
     "text": [
      "Enter the number: 34\n",
      "Enter the number: 43\n"
     ]
    },
    {
     "name": "stdout",
     "output_type": "stream",
     "text": [
      "sum: 34 + 43 = 77\n"
     ]
    }
   ],
   "source": [
    "num1 = int(input(\"Enter the number:\" ))\n",
    "num2 = int(input(\"Enter the number:\" ))\n",
    "sum = num1 + num2\n",
    "print(\"sum:\",num1,\"+\",num2,\"=\",sum)"
   ]
  },
  {
   "cell_type": "code",
   "execution_count": 1,
   "id": "a7f38e7b-8f61-4eb8-b05b-4734a7ba9add",
   "metadata": {},
   "outputs": [
    {
     "name": "stdout",
     "output_type": "stream",
     "text": [
      "World\n"
     ]
    }
   ],
   "source": [
    "message = 'World'\n",
    "print(message)"
   ]
  },
  {
   "cell_type": "code",
   "execution_count": 1,
   "id": "65e8893e-4ddc-4c37-8d76-62eac576afb0",
   "metadata": {},
   "outputs": [
    {
     "name": "stdout",
     "output_type": "stream",
     "text": [
      "True\n"
     ]
    }
   ],
   "source": [
    "a = 'is_python_fun'\n",
    "print(bool(a))"
   ]
  },
  {
   "cell_type": "code",
   "execution_count": 3,
   "id": "7dd69305-8751-4071-8854-5a5aaad168d8",
   "metadata": {},
   "outputs": [
    {
     "name": "stdout",
     "output_type": "stream",
     "text": [
      "['apple,orange,pear']\n"
     ]
    }
   ],
   "source": [
    "fruits = ['apple,orange,pear']\n",
    "print(fruits)"
   ]
  },
  {
   "cell_type": "code",
   "execution_count": 4,
   "id": "fa1157fd-9ff0-4fe7-904c-554cbf682ba2",
   "metadata": {},
   "outputs": [
    {
     "name": "stdout",
     "output_type": "stream",
     "text": [
      "['apple,orange,pear', 'cherry']\n"
     ]
    }
   ],
   "source": [
    "fruits.append('cherry')\n",
    "print(fruits)"
   ]
  },
  {
   "cell_type": "code",
   "execution_count": 5,
   "id": "ad936974-324c-4ca9-8a5e-642b5e10bbab",
   "metadata": {},
   "outputs": [
    {
     "name": "stdout",
     "output_type": "stream",
     "text": [
      "56.78\n",
      "56\n"
     ]
    }
   ],
   "source": [
    "price = 56.78\n",
    "print(price)\n",
    "print(int(price))"
   ]
  },
  {
   "cell_type": "code",
   "execution_count": 6,
   "id": "95b22376-be00-4897-84fd-870f4273390c",
   "metadata": {},
   "outputs": [
    {
     "name": "stdout",
     "output_type": "stream",
     "text": [
      "{'name': 'hiba', 'age': '5', 'grade': 'A'}\n"
     ]
    }
   ],
   "source": [
    "student_info = {\"name\":'hiba',\"age\":'5',\"grade\":'A'}\n",
    "print(student_info)"
   ]
  },
  {
   "cell_type": "code",
   "execution_count": 7,
   "id": "7c2801d5-2806-4f97-8e89-da4f6cc15f1b",
   "metadata": {},
   "outputs": [
    {
     "name": "stdout",
     "output_type": "stream",
     "text": [
      "Hello World!\n"
     ]
    }
   ],
   "source": [
    "a = \"Hello\"\n",
    "b = \"World!\"\n",
    "print(a + \" \" + b)"
   ]
  },
  {
   "cell_type": "code",
   "execution_count": 8,
   "id": "728fea65-a54f-4c14-bf7f-a723207ef2d9",
   "metadata": {},
   "outputs": [
    {
     "name": "stdout",
     "output_type": "stream",
     "text": [
      "('monday', 'tuesday', 'wednesday', 'thursday', 'friday', 'saturday', 'sunday')\n",
      "wednesday\n"
     ]
    }
   ],
   "source": [
    "days_of_week = (\"monday\",\"tuesday\",\"wednesday\",\"thursday\",\"friday\",\"saturday\",\"sunday\")\n",
    "print(days_of_week)\n",
    "third = days_of_week[2]\n",
    "print(third)"
   ]
  },
  {
   "cell_type": "code",
   "execution_count": null,
   "id": "9b5d3fcb-3d36-47d5-a76f-f35d9897984f",
   "metadata": {},
   "outputs": [],
   "source": []
  }
 ],
 "metadata": {
  "kernelspec": {
   "display_name": "Python 3 (ipykernel)",
   "language": "python",
   "name": "python3"
  },
  "language_info": {
   "codemirror_mode": {
    "name": "ipython",
    "version": 3
   },
   "file_extension": ".py",
   "mimetype": "text/x-python",
   "name": "python",
   "nbconvert_exporter": "python",
   "pygments_lexer": "ipython3",
   "version": "3.10.10"
  }
 },
 "nbformat": 4,
 "nbformat_minor": 5
}
